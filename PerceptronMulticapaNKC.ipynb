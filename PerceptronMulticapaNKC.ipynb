{
  "nbformat": 4,
  "nbformat_minor": 0,
  "metadata": {
    "colab": {
      "provenance": [],
      "authorship_tag": "ABX9TyOqaRm33MchACpPzJ+NyXNK",
      "include_colab_link": true
    },
    "kernelspec": {
      "name": "python3",
      "display_name": "Python 3"
    },
    "language_info": {
      "name": "python"
    }
  },
  "cells": [
    {
      "cell_type": "markdown",
      "metadata": {
        "id": "view-in-github",
        "colab_type": "text"
      },
      "source": [
        "<a href=\"https://colab.research.google.com/github/tomas-lp/MLP-NKC/blob/main/PerceptronMulticapaNKC.ipynb\" target=\"_parent\"><img src=\"https://colab.research.google.com/assets/colab-badge.svg\" alt=\"Open In Colab\"/></a>"
      ]
    },
    {
      "cell_type": "markdown",
      "source": [
        "#### Importar librerías"
      ],
      "metadata": {
        "id": "QH5SCLWkC8Hg"
      }
    },
    {
      "cell_type": "code",
      "execution_count": null,
      "metadata": {
        "id": "HQvfd9_07w0R"
      },
      "outputs": [],
      "source": [
        "import numpy as np"
      ]
    },
    {
      "cell_type": "markdown",
      "source": [
        "### Paso 1: Inicializar parámetros"
      ],
      "metadata": {
        "id": "z9CFT3XmCUOm"
      }
    },
    {
      "cell_type": "code",
      "source": [],
      "metadata": {
        "id": "KxvBGeGsCeu9"
      },
      "execution_count": null,
      "outputs": []
    },
    {
      "cell_type": "markdown",
      "source": [
        "### Paso 2: Implementar funciones de activación lineal y sigmoidal"
      ],
      "metadata": {
        "id": "qgNpIZasCiqi"
      }
    },
    {
      "cell_type": "code",
      "source": [],
      "metadata": {
        "id": "gBdRb8ChC3-Z"
      },
      "execution_count": null,
      "outputs": []
    },
    {
      "cell_type": "markdown",
      "source": [
        "### Paso 3: Implementar algoritmo de propagación hacia adelante"
      ],
      "metadata": {
        "id": "qqkT1QwmCl_A"
      }
    },
    {
      "cell_type": "code",
      "source": [],
      "metadata": {
        "id": "mIyq3O0YC4lt"
      },
      "execution_count": null,
      "outputs": []
    },
    {
      "cell_type": "markdown",
      "source": [
        "### Paso 4: Implementar función de pérdida"
      ],
      "metadata": {
        "id": "bCSdMifvCpz8"
      }
    },
    {
      "cell_type": "code",
      "source": [],
      "metadata": {
        "id": "wpPL21VDC5B8"
      },
      "execution_count": null,
      "outputs": []
    },
    {
      "cell_type": "markdown",
      "source": [
        "### Paso 5: Implementar retropropagación"
      ],
      "metadata": {
        "id": "9amW5cAnCrvs"
      }
    },
    {
      "cell_type": "code",
      "source": [],
      "metadata": {
        "id": "-DM1oI1YC5Ve"
      },
      "execution_count": null,
      "outputs": []
    },
    {
      "cell_type": "markdown",
      "source": [
        "### Paso 6: Actualizar los pesos"
      ],
      "metadata": {
        "id": "CM26fWfCCt62"
      }
    },
    {
      "cell_type": "code",
      "source": [],
      "metadata": {
        "id": "dgcUXv80C5tI"
      },
      "execution_count": null,
      "outputs": []
    },
    {
      "cell_type": "markdown",
      "source": [
        "### Paso 7: Armar bucle de entrenamiento"
      ],
      "metadata": {
        "id": "mM3fMXMKC0Yf"
      }
    },
    {
      "cell_type": "code",
      "source": [],
      "metadata": {
        "id": "u28LbalnC6HO"
      },
      "execution_count": null,
      "outputs": []
    }
  ]
}